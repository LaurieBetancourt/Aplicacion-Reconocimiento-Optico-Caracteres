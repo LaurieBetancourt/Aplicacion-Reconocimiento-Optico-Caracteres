{
  "nbformat": 4,
  "nbformat_minor": 0,
  "metadata": {
    "colab": {
      "provenance": [],
      "mount_file_id": "1TWKaOs0weveKIEvwt6nBCt19LmdlYa7Z",
      "authorship_tag": "ABX9TyOweU3+dc1Jo/LV3vLBLhy6",
      "include_colab_link": true
    },
    "kernelspec": {
      "name": "python3",
      "display_name": "Python 3"
    },
    "language_info": {
      "name": "python"
    }
  },
  "cells": [
    {
      "cell_type": "markdown",
      "metadata": {
        "id": "view-in-github",
        "colab_type": "text"
      },
      "source": [
        "<a href=\"https://colab.research.google.com/github/LaurieBetancourt/Aplicacion-Reconocimiento-Optico-Caracteres/blob/main/GoogleColab/Handwriting_Digit_Recognition.ipynb\" target=\"_parent\"><img src=\"https://colab.research.google.com/assets/colab-badge.svg\" alt=\"Open In Colab\"/></a>"
      ]
    },
    {
      "cell_type": "markdown",
      "metadata": {
        "id": "nyimBvTy86qo"
      },
      "source": [
        "# Importar datos y librerias"
      ]
    },
    {
      "cell_type": "markdown",
      "metadata": {
        "id": "E2oV5ADQ77WV"
      },
      "source": [
        "### Librerias"
      ]
    },
    {
      "cell_type": "code",
      "metadata": {
        "colab": {
          "base_uri": "https://localhost:8080/"
        },
        "id": "VYmMNqjM6XO9",
        "outputId": "4ee1d7a8-84f8-4cbf-f55c-2693ac3abc9a"
      },
      "source": [
        "# Libreria Tensorflow\n",
        "import tensorflow as tf\n",
        "print(tf.__version__)"
      ],
      "execution_count": null,
      "outputs": [
        {
          "output_type": "stream",
          "name": "stdout",
          "text": [
            "2.6.0\n"
          ]
        }
      ]
    },
    {
      "cell_type": "code",
      "metadata": {
        "id": "2eJCtP52-HdU",
        "colab": {
          "base_uri": "https://localhost:8080/"
        },
        "outputId": "41099441-e737-4a53-e295-a08b4dd0d9fa"
      },
      "source": [
        "# Keras\n",
        "import keras\n",
        "print(keras.__version__)"
      ],
      "execution_count": null,
      "outputs": [
        {
          "output_type": "stream",
          "name": "stdout",
          "text": [
            "2.6.0\n"
          ]
        }
      ]
    },
    {
      "cell_type": "code",
      "metadata": {
        "id": "v87U_Ig2OzOV"
      },
      "source": [
        "# modelo\n",
        "from tensorflow.keras.models import Sequential\n",
        "from tensorflow.keras.layers import Dense, Dropout, Activation, Flatten, Conv2D, MaxPooling2D "
      ],
      "execution_count": null,
      "outputs": []
    },
    {
      "cell_type": "code",
      "metadata": {
        "colab": {
          "base_uri": "https://localhost:8080/"
        },
        "id": "0Nagz_CX7gJb",
        "outputId": "8b268f4f-7a5d-4bc9-e9af-75e9c8185a15"
      },
      "source": [
        "# Libreria OpenCv\n",
        "import cv2 \n",
        "print(cv2.__version__)\n",
        "from google.colab.patches import cv2_imshow"
      ],
      "execution_count": null,
      "outputs": [
        {
          "output_type": "stream",
          "name": "stdout",
          "text": [
            "4.1.2\n"
          ]
        }
      ]
    },
    {
      "cell_type": "code",
      "metadata": {
        "id": "MiDopPb3AbTT"
      },
      "source": [
        "# libreria plot\n",
        "import matplotlib.pyplot as plt\n",
        "import matplotlib.image as img\n"
      ],
      "execution_count": null,
      "outputs": []
    },
    {
      "cell_type": "code",
      "metadata": {
        "id": "fkgNoIfFNro7"
      },
      "source": [
        "# libreria numpy\n",
        "import numpy as np\n"
      ],
      "execution_count": null,
      "outputs": []
    },
    {
      "cell_type": "code",
      "metadata": {
        "id": "UqtZREC4fIyO"
      },
      "source": [
        "# tiempo\n",
        "import time"
      ],
      "execution_count": null,
      "outputs": []
    },
    {
      "cell_type": "code",
      "metadata": {
        "id": "T7ceqKX_lHpp"
      },
      "source": [
        "# drive\n",
        "from google.colab import drive"
      ],
      "execution_count": null,
      "outputs": []
    },
    {
      "cell_type": "markdown",
      "metadata": {
        "id": "na9v7C7n9Cb7"
      },
      "source": [
        "## Base de Datos **MNIST**"
      ]
    },
    {
      "cell_type": "code",
      "metadata": {
        "id": "vjHMoLGL8pDq"
      },
      "source": [
        "# Base de Datos MN\n",
        "from keras.datasets import mnist\n",
        "datos = keras.datasets.mnist"
      ],
      "execution_count": null,
      "outputs": []
    },
    {
      "cell_type": "markdown",
      "metadata": {
        "id": "fxZxmX9m-iL1"
      },
      "source": [
        "## Datos de entrenamiento y prueba\n",
        "\n",
        "A continuación, se dividiran los datos del dataset **MNIST**. En una variable se guardaran datos para el entrenamiento del modelo y en otra los datos para probar el modelo. "
      ]
    },
    {
      "cell_type": "code",
      "metadata": {
        "colab": {
          "base_uri": "https://localhost:8080/"
        },
        "id": "doGZ-gkb-zKK",
        "outputId": "81af9599-b3c3-4ba2-dba6-bc8e1a77400f"
      },
      "source": [
        "(x_entrenamiento,y_entrenamiento),(x_prueba,y_prueba)= datos.load_data()"
      ],
      "execution_count": null,
      "outputs": [
        {
          "output_type": "stream",
          "name": "stdout",
          "text": [
            "Downloading data from https://storage.googleapis.com/tensorflow/tf-keras-datasets/mnist.npz\n",
            "11493376/11490434 [==============================] - 0s 0us/step\n",
            "11501568/11490434 [==============================] - 0s 0us/step\n"
          ]
        }
      ]
    },
    {
      "cell_type": "code",
      "metadata": {
        "colab": {
          "base_uri": "https://localhost:8080/"
        },
        "id": "g9wD3wKT_nDn",
        "outputId": "667488c4-499e-48b3-de9b-200f43442382"
      },
      "source": [
        "## Entrenamiento\n",
        "# 60,000 imagenes de tamaño 28x28\n",
        "x_entrenamiento.shape"
      ],
      "execution_count": null,
      "outputs": [
        {
          "output_type": "execute_result",
          "data": {
            "text/plain": [
              "(60000, 28, 28)"
            ]
          },
          "metadata": {},
          "execution_count": 23
        }
      ]
    },
    {
      "cell_type": "code",
      "metadata": {
        "colab": {
          "base_uri": "https://localhost:8080/"
        },
        "id": "A3bCpC-VFof_",
        "outputId": "99c66e3f-73e8-42f3-9b8a-4d655e1af084"
      },
      "source": [
        "## Prueba\n",
        "# 10,000 imagenes de tamaño 28x28\n",
        "x_prueba.shape"
      ],
      "execution_count": null,
      "outputs": [
        {
          "output_type": "execute_result",
          "data": {
            "text/plain": [
              "(10000, 28, 28)"
            ]
          },
          "metadata": {},
          "execution_count": 84
        }
      ]
    },
    {
      "cell_type": "code",
      "metadata": {
        "colab": {
          "base_uri": "https://localhost:8080/",
          "height": 531
        },
        "id": "G-o-cbyAAQCa",
        "outputId": "5911204b-1611-47a0-cefb-d783fc75d60e"
      },
      "source": [
        "# Visualización de un elemento de los datos de entrenamiento\n",
        "# La imagen\n",
        "plt.imshow(x_entrenamiento[1])\n",
        "plt.show()\n",
        "# La imagen en escala de grises\n",
        "plt.imshow(x_entrenamiento[1], cmap=plt.cm.binary)\n",
        "plt.show()\n",
        "# El valor correspondiente a la imagen\n",
        "print(y_entrenamiento[1])"
      ],
      "execution_count": null,
      "outputs": [
        {
          "output_type": "display_data",
          "data": {
            "image/png": "[encoded data removed]",
            "text/plain": [
              "<Figure size 432x288 with 1 Axes>"
            ]
          },
          "metadata": {
            "needs_background": "light"
          }
        },
        {
          "output_type": "display_data",
          "data": {
            "image/png": "[encoded data removed]",
            "text/plain": [
              "<Figure size 432x288 with 1 Axes>"
            ]
          },
          "metadata": {
            "needs_background": "light"
          }
        },
        {
          "output_type": "stream",
          "name": "stdout",
          "text": [
            "0\n"
          ]
        }
      ]
    },
    {
      "cell_type": "markdown",
      "metadata": {
        "id": "KpBWpc8OCu01"
      },
      "source": [
        "Si imprimimos a `x_entrenamiento`, los valores que obtenemos son los valores del color de los pixeles de la imagen. "
      ]
    },
    {
      "cell_type": "code",
      "metadata": {
        "colab": {
          "base_uri": "https://localhost:8080/"
        },
        "id": "Gbm9nL6TCa5y",
        "outputId": "9053ad5a-e061-4c32-e97c-056fe89bd7e5"
      },
      "source": [
        "print(x_entrenamiento[1])"
      ],
      "execution_count": null,
      "outputs": [
        {
          "output_type": "stream",
          "name": "stdout",
          "text": [
            "[[  0   0   0   0   0   0   0   0   0   0   0   0   0   0   0   0   0   0\n",
            "    0   0   0   0   0   0   0   0   0   0]\n",
            " [  0   0   0   0   0   0   0   0   0   0   0   0   0   0   0   0   0   0\n",
            "    0   0   0   0   0   0   0   0   0   0]\n",
            " [  0   0   0   0   0   0   0   0   0   0   0   0   0   0   0   0   0   0\n",
            "    0   0   0   0   0   0   0   0   0   0]\n",
            " [  0   0   0   0   0   0   0   0   0   0   0   0   0   0   0   0   0   0\n",
            "    0   0   0   0   0   0   0   0   0   0]\n",
            " [  0   0   0   0   0   0   0   0   0   0   0   0   0   0   0  51 159 253\n",
            "  159  50   0   0   0   0   0   0   0   0]\n",
            " [  0   0   0   0   0   0   0   0   0   0   0   0   0   0  48 238 252 252\n",
            "  252 237   0   0   0   0   0   0   0   0]\n",
            " [  0   0   0   0   0   0   0   0   0   0   0   0   0  54 227 253 252 239\n",
            "  233 252  57   6   0   0   0   0   0   0]\n",
            " [  0   0   0   0   0   0   0   0   0   0   0  10  60 224 252 253 252 202\n",
            "   84 252 253 122   0   0   0   0   0   0]\n",
            " [  0   0   0   0   0   0   0   0   0   0   0 163 252 252 252 253 252 252\n",
            "   96 189 253 167   0   0   0   0   0   0]\n",
            " [  0   0   0   0   0   0   0   0   0   0  51 238 253 253 190 114 253 228\n",
            "   47  79 255 168   0   0   0   0   0   0]\n",
            " [  0   0   0   0   0   0   0   0   0  48 238 252 252 179  12  75 121  21\n",
            "    0   0 253 243  50   0   0   0   0   0]\n",
            " [  0   0   0   0   0   0   0   0  38 165 253 233 208  84   0   0   0   0\n",
            "    0   0 253 252 165   0   0   0   0   0]\n",
            " [  0   0   0   0   0   0   0   7 178 252 240  71  19  28   0   0   0   0\n",
            "    0   0 253 252 195   0   0   0   0   0]\n",
            " [  0   0   0   0   0   0   0  57 252 252  63   0   0   0   0   0   0   0\n",
            "    0   0 253 252 195   0   0   0   0   0]\n",
            " [  0   0   0   0   0   0   0 198 253 190   0   0   0   0   0   0   0   0\n",
            "    0   0 255 253 196   0   0   0   0   0]\n",
            " [  0   0   0   0   0   0  76 246 252 112   0   0   0   0   0   0   0   0\n",
            "    0   0 253 252 148   0   0   0   0   0]\n",
            " [  0   0   0   0   0   0  85 252 230  25   0   0   0   0   0   0   0   0\n",
            "    7 135 253 186  12   0   0   0   0   0]\n",
            " [  0   0   0   0   0   0  85 252 223   0   0   0   0   0   0   0   0   7\n",
            "  131 252 225  71   0   0   0   0   0   0]\n",
            " [  0   0   0   0   0   0  85 252 145   0   0   0   0   0   0   0  48 165\n",
            "  252 173   0   0   0   0   0   0   0   0]\n",
            " [  0   0   0   0   0   0  86 253 225   0   0   0   0   0   0 114 238 253\n",
            "  162   0   0   0   0   0   0   0   0   0]\n",
            " [  0   0   0   0   0   0  85 252 249 146  48  29  85 178 225 253 223 167\n",
            "   56   0   0   0   0   0   0   0   0   0]\n",
            " [  0   0   0   0   0   0  85 252 252 252 229 215 252 252 252 196 130   0\n",
            "    0   0   0   0   0   0   0   0   0   0]\n",
            " [  0   0   0   0   0   0  28 199 252 252 253 252 252 233 145   0   0   0\n",
            "    0   0   0   0   0   0   0   0   0   0]\n",
            " [  0   0   0   0   0   0   0  25 128 252 253 252 141  37   0   0   0   0\n",
            "    0   0   0   0   0   0   0   0   0   0]\n",
            " [  0   0   0   0   0   0   0   0   0   0   0   0   0   0   0   0   0   0\n",
            "    0   0   0   0   0   0   0   0   0   0]\n",
            " [  0   0   0   0   0   0   0   0   0   0   0   0   0   0   0   0   0   0\n",
            "    0   0   0   0   0   0   0   0   0   0]\n",
            " [  0   0   0   0   0   0   0   0   0   0   0   0   0   0   0   0   0   0\n",
            "    0   0   0   0   0   0   0   0   0   0]\n",
            " [  0   0   0   0   0   0   0   0   0   0   0   0   0   0   0   0   0   0\n",
            "    0   0   0   0   0   0   0   0   0   0]]\n"
          ]
        }
      ]
    },
    {
      "cell_type": "markdown",
      "metadata": {
        "id": "z3VdxupmEHSF"
      },
      "source": [
        "# Preprocesamiento\n",
        "## Normalización de los datos\n",
        "\n",
        "Ahora, lo que necesitamos es transformar esos valores en valores correspondientes a los de una distribución normal. "
      ]
    },
    {
      "cell_type": "code",
      "metadata": {
        "id": "TUKvcNtHDdtd"
      },
      "source": [
        "x_entrenamiento = tf.keras.utils.normalize(x_entrenamiento, axis=1)\n",
        "x_prueba=tf.keras.utils.normalize(x_prueba, axis=1)"
      ],
      "execution_count": null,
      "outputs": []
    },
    {
      "cell_type": "markdown",
      "metadata": {
        "id": "knob6tn2JyEe"
      },
      "source": [
        "### Despuésde normalizar los datos\n",
        "\n",
        "Ahora los valores entan entre $0$ y $1$\n",
        "\n"
      ]
    },
    {
      "cell_type": "code",
      "metadata": {
        "colab": {
          "base_uri": "https://localhost:8080/",
          "height": 1000
        },
        "id": "e-AexvsFJ1KD",
        "outputId": "aeeac11a-f18a-4fc1-823d-a67c7e97066c"
      },
      "source": [
        "print(x_entrenamiento[1])\n",
        "plt.imshow(x_entrenamiento[0],cmap=plt.cm.binary)"
      ],
      "execution_count": null,
      "outputs": [
        {
          "output_type": "stream",
          "name": "stdout",
          "text": [
            "[[0.         0.         0.         0.         0.         0.\n",
            "  0.         0.         0.         0.         0.         0.\n",
            "  0.         0.         0.         0.         0.         0.\n",
            "  0.         0.         0.         0.         0.         0.\n",
            "  0.         0.         0.         0.        ]\n",
            " [0.         0.         0.         0.         0.         0.\n",
            "  0.         0.         0.         0.         0.         0.\n",
            "  0.         0.         0.         0.         0.         0.\n",
            "  0.         0.         0.         0.         0.         0.\n",
            "  0.         0.         0.         0.        ]\n",
            " [0.         0.         0.         0.         0.         0.\n",
            "  0.         0.         0.         0.         0.         0.\n",
            "  0.         0.         0.         0.         0.         0.\n",
            "  0.         0.         0.         0.         0.         0.\n",
            "  0.         0.         0.         0.        ]\n",
            " [0.         0.         0.         0.         0.         0.\n",
            "  0.         0.         0.         0.         0.         0.\n",
            "  0.         0.         0.         0.         0.         0.\n",
            "  0.         0.         0.         0.         0.         0.\n",
            "  0.         0.         0.         0.        ]\n",
            " [0.         0.         0.         0.         0.         0.\n",
            "  0.         0.         0.         0.         0.         0.\n",
            "  0.         0.         0.         0.08216044 0.2286589  0.3728098\n",
            "  0.30506548 0.08583808 0.         0.         0.         0.\n",
            "  0.         0.         0.         0.        ]\n",
            " [0.         0.         0.         0.         0.         0.\n",
            "  0.         0.         0.         0.         0.         0.\n",
            "  0.         0.         0.08087653 0.38341541 0.36240278 0.37133624\n",
            "  0.48350001 0.4068725  0.         0.         0.         0.\n",
            "  0.         0.         0.         0.        ]\n",
            " [0.         0.         0.         0.         0.         0.\n",
            "  0.         0.         0.         0.         0.         0.\n",
            "  0.         0.08861609 0.3824786  0.40758025 0.36240278 0.35218\n",
            "  0.44704564 0.43262392 0.06832372 0.00859123 0.         0.\n",
            "  0.         0.         0.         0.        ]\n",
            " [0.         0.         0.         0.         0.         0.\n",
            "  0.         0.         0.         0.         0.         0.01621743\n",
            "  0.095788   0.36759266 0.42460179 0.40758025 0.36240278 0.29765841\n",
            "  0.16116667 0.43262392 0.30326141 0.17468832 0.         0.\n",
            "  0.         0.         0.         0.        ]\n",
            " [0.         0.         0.         0.         0.         0.\n",
            "  0.         0.         0.         0.         0.         0.26434406\n",
            "  0.4023096  0.41354174 0.42460179 0.40758025 0.36240278 0.37133624\n",
            "  0.18419048 0.32446794 0.30326141 0.23912253 0.         0.\n",
            "  0.         0.         0.         0.        ]\n",
            " [0.         0.         0.         0.         0.         0.\n",
            "  0.         0.         0.         0.         0.08411834 0.38597476\n",
            "  0.40390606 0.41518278 0.32013627 0.18365276 0.36384089 0.33597088\n",
            "  0.09017659 0.13562417 0.30565873 0.2405544  0.         0.\n",
            "  0.         0.         0.         0.        ]\n",
            " [0.         0.         0.         0.         0.         0.\n",
            "  0.         0.         0.         0.07427511 0.39255225 0.40867916\n",
            "  0.4023096  0.29374592 0.02021913 0.12082418 0.17401086 0.03094469\n",
            "  0.         0.         0.30326141 0.34794476 0.12263192 0.\n",
            "  0.         0.         0.         0.        ]\n",
            " [0.         0.         0.         0.         0.         0.\n",
            "  0.         0.         0.04890249 0.2553207  0.41729294 0.37786605\n",
            "  0.33206506 0.13784725 0.         0.         0.         0.\n",
            "  0.         0.         0.30326141 0.36083161 0.40468535 0.\n",
            "  0.         0.         0.         0.        ]\n",
            " [0.         0.         0.         0.         0.         0.\n",
            "  0.         0.00966301 0.22906954 0.38994434 0.39585101 0.11514373\n",
            "  0.03033287 0.04594908 0.         0.         0.         0.\n",
            "  0.         0.         0.30326141 0.36083161 0.47826451 0.\n",
            "  0.         0.         0.         0.        ]\n",
            " [0.         0.         0.         0.         0.         0.\n",
            "  0.         0.07868449 0.32430069 0.38994434 0.10391089 0.\n",
            "  0.         0.         0.         0.         0.         0.\n",
            "  0.         0.         0.30326141 0.36083161 0.47826451 0.\n",
            "  0.         0.         0.         0.        ]\n",
            " [0.         0.         0.         0.         0.         0.\n",
            "  0.         0.27332506 0.3255876  0.29400565 0.         0.\n",
            "  0.         0.         0.         0.         0.         0.\n",
            "  0.         0.         0.30565873 0.36226348 0.48071715 0.\n",
            "  0.         0.         0.         0.        ]\n",
            " [0.         0.         0.         0.         0.         0.\n",
            "  0.33960736 0.33958568 0.32430069 0.17330859 0.         0.\n",
            "  0.         0.         0.         0.         0.         0.\n",
            "  0.         0.         0.30326141 0.36083161 0.3629905  0.\n",
            "  0.         0.         0.         0.        ]\n",
            " [0.         0.         0.         0.         0.         0.\n",
            "  0.37982402 0.34786826 0.29598873 0.03868495 0.         0.\n",
            "  0.         0.         0.         0.         0.         0.\n",
            "  0.01343056 0.23176282 0.30326141 0.26632809 0.02943166 0.\n",
            "  0.         0.         0.         0.        ]\n",
            " [0.         0.         0.         0.         0.         0.\n",
            "  0.37982402 0.34786826 0.28698037 0.         0.         0.\n",
            "  0.         0.         0.         0.         0.         0.0103149\n",
            "  0.25134326 0.43262392 0.26969888 0.10166287 0.         0.\n",
            "  0.         0.         0.         0.        ]\n",
            " [0.         0.         0.         0.         0.         0.\n",
            "  0.37982402 0.34786826 0.18660159 0.         0.         0.\n",
            "  0.         0.         0.         0.         0.0690291  0.24313682\n",
            "  0.48350001 0.29699976 0.         0.         0.         0.\n",
            "  0.         0.         0.         0.        ]\n",
            " [0.         0.         0.         0.         0.         0.\n",
            "  0.38429254 0.34924869 0.28955419 0.         0.         0.\n",
            "  0.         0.         0.         0.18365276 0.34226929 0.3728098\n",
            "  0.31082143 0.         0.         0.         0.         0.\n",
            "  0.         0.         0.         0.        ]\n",
            " [0.         0.         0.         0.         0.         0.\n",
            "  0.37982402 0.34786826 0.32043997 0.22592013 0.0791702  0.04703054\n",
            "  0.13569967 0.29210488 0.37910874 0.40758025 0.3206977  0.24608394\n",
            "  0.10744445 0.         0.         0.         0.         0.\n",
            "  0.         0.         0.         0.        ]\n",
            " [0.         0.         0.         0.         0.         0.\n",
            "  0.37982402 0.34786826 0.32430069 0.38994434 0.37770784 0.34867468\n",
            "  0.4023096  0.41354174 0.42460179 0.31575387 0.18695382 0.\n",
            "  0.         0.         0.         0.         0.         0.\n",
            "  0.         0.         0.         0.        ]\n",
            " [0.         0.         0.         0.         0.         0.\n",
            "  0.1251185  0.27470549 0.32430069 0.38994434 0.41729294 0.40867916\n",
            "  0.4023096  0.38236201 0.24431452 0.         0.         0.\n",
            "  0.         0.         0.         0.         0.         0.\n",
            "  0.         0.         0.         0.        ]\n",
            " [0.         0.         0.         0.         0.         0.\n",
            "  0.         0.03451074 0.16472416 0.38994434 0.41729294 0.40867916\n",
            "  0.2251018  0.06071843 0.         0.         0.         0.\n",
            "  0.         0.         0.         0.         0.         0.\n",
            "  0.         0.         0.         0.        ]\n",
            " [0.         0.         0.         0.         0.         0.\n",
            "  0.         0.         0.         0.         0.         0.\n",
            "  0.         0.         0.         0.         0.         0.\n",
            "  0.         0.         0.         0.         0.         0.\n",
            "  0.         0.         0.         0.        ]\n",
            " [0.         0.         0.         0.         0.         0.\n",
            "  0.         0.         0.         0.         0.         0.\n",
            "  0.         0.         0.         0.         0.         0.\n",
            "  0.         0.         0.         0.         0.         0.\n",
            "  0.         0.         0.         0.        ]\n",
            " [0.         0.         0.         0.         0.         0.\n",
            "  0.         0.         0.         0.         0.         0.\n",
            "  0.         0.         0.         0.         0.         0.\n",
            "  0.         0.         0.         0.         0.         0.\n",
            "  0.         0.         0.         0.        ]\n",
            " [0.         0.         0.         0.         0.         0.\n",
            "  0.         0.         0.         0.         0.         0.\n",
            "  0.         0.         0.         0.         0.         0.\n",
            "  0.         0.         0.         0.         0.         0.\n",
            "  0.         0.         0.         0.        ]]\n"
          ]
        },
        {
          "output_type": "execute_result",
          "data": {
            "text/plain": [
              "<matplotlib.image.AxesImage at 0x7f3ebc5f0a10>"
            ]
          },
          "metadata": {},
          "execution_count": 27
        },
        {
          "output_type": "display_data",
          "data": {
            "image/png": "[encoded data removed]",
            "text/plain": [
              "<Figure size 432x288 with 1 Axes>"
            ]
          },
          "metadata": {
            "needs_background": "light"
          }
        }
      ]
    },
    {
      "cell_type": "markdown",
      "metadata": {
        "id": "4qVqY4S2LdAA"
      },
      "source": [
        "## Redimencionar las imagenes\n",
        "\n",
        "Usaremos la funcion `reshape` de **numpy**. Esta función devuelve un nuevo array. "
      ]
    },
    {
      "cell_type": "code",
      "metadata": {
        "id": "KpgKbdHLKUiM"
      },
      "source": [
        "### Tamaño imagen\n",
        "# Entrenamiento\n",
        "x_entrenamientoD = np.array(x_entrenamiento).reshape(-1,28,28,1)\n",
        "x_pruebaD = np.array(x_prueba).reshape(-1,28,28,1)\n"
      ],
      "execution_count": null,
      "outputs": []
    },
    {
      "cell_type": "code",
      "metadata": {
        "colab": {
          "base_uri": "https://localhost:8080/"
        },
        "id": "h0LXX0A1Qp5g",
        "outputId": "31f518e7-5260-4626-b616-7feb8fd3e0a3"
      },
      "source": [
        "\n",
        "print(x_pruebaD[1])"
      ],
      "execution_count": null,
      "outputs": [
        {
          "output_type": "stream",
          "name": "stdout",
          "text": [
            "[[[0.        ]\n",
            "  [0.        ]\n",
            "  [0.        ]\n",
            "  [0.        ]\n",
            "  [0.        ]\n",
            "  [0.        ]\n",
            "  [0.        ]\n",
            "  [0.        ]\n",
            "  [0.        ]\n",
            "  [0.        ]\n",
            "  [0.        ]\n",
            "  [0.        ]\n",
            "  [0.        ]\n",
            "  [0.        ]\n",
            "  [0.        ]\n",
            "  [0.        ]\n",
            "  [0.        ]\n",
            "  [0.        ]\n",
            "  [0.        ]\n",
            "  [0.        ]\n",
            "  [0.        ]\n",
            "  [0.        ]\n",
            "  [0.        ]\n",
            "  [0.        ]\n",
            "  [0.        ]\n",
            "  [0.        ]\n",
            "  [0.        ]\n",
            "  [0.        ]]\n",
            "\n",
            " [[0.        ]\n",
            "  [0.        ]\n",
            "  [0.        ]\n",
            "  [0.        ]\n",
            "  [0.        ]\n",
            "  [0.        ]\n",
            "  [0.        ]\n",
            "  [0.        ]\n",
            "  [0.        ]\n",
            "  [0.        ]\n",
            "  [0.        ]\n",
            "  [0.        ]\n",
            "  [0.        ]\n",
            "  [0.        ]\n",
            "  [0.        ]\n",
            "  [0.        ]\n",
            "  [0.        ]\n",
            "  [0.        ]\n",
            "  [0.        ]\n",
            "  [0.        ]\n",
            "  [0.        ]\n",
            "  [0.        ]\n",
            "  [0.        ]\n",
            "  [0.        ]\n",
            "  [0.        ]\n",
            "  [0.        ]\n",
            "  [0.        ]\n",
            "  [0.        ]]\n",
            "\n",
            " [[0.        ]\n",
            "  [0.        ]\n",
            "  [0.        ]\n",
            "  [0.        ]\n",
            "  [0.        ]\n",
            "  [0.        ]\n",
            "  [0.        ]\n",
            "  [0.        ]\n",
            "  [0.        ]\n",
            "  [0.        ]\n",
            "  [0.        ]\n",
            "  [0.        ]\n",
            "  [0.        ]\n",
            "  [0.        ]\n",
            "  [0.        ]\n",
            "  [0.        ]\n",
            "  [0.        ]\n",
            "  [0.        ]\n",
            "  [0.        ]\n",
            "  [0.        ]\n",
            "  [0.        ]\n",
            "  [0.        ]\n",
            "  [0.        ]\n",
            "  [0.        ]\n",
            "  [0.        ]\n",
            "  [0.        ]\n",
            "  [0.        ]\n",
            "  [0.        ]]\n",
            "\n",
            " [[0.        ]\n",
            "  [0.        ]\n",
            "  [0.        ]\n",
            "  [0.        ]\n",
            "  [0.        ]\n",
            "  [0.        ]\n",
            "  [0.        ]\n",
            "  [0.        ]\n",
            "  [0.        ]\n",
            "  [0.        ]\n",
            "  [0.1399812 ]\n",
            "  [0.16164718]\n",
            "  [0.23083882]\n",
            "  [0.33419761]\n",
            "  [0.3221477 ]\n",
            "  [0.18617473]\n",
            "  [0.13001602]\n",
            "  [0.        ]\n",
            "  [0.        ]\n",
            "  [0.        ]\n",
            "  [0.        ]\n",
            "  [0.        ]\n",
            "  [0.        ]\n",
            "  [0.        ]\n",
            "  [0.        ]\n",
            "  [0.        ]\n",
            "  [0.        ]\n",
            "  [0.        ]]\n",
            "\n",
            " [[0.        ]\n",
            "  [0.        ]\n",
            "  [0.        ]\n",
            "  [0.        ]\n",
            "  [0.        ]\n",
            "  [0.        ]\n",
            "  [0.        ]\n",
            "  [0.        ]\n",
            "  [0.        ]\n",
            "  [0.22170613]\n",
            "  [0.30530383]\n",
            "  [0.32717389]\n",
            "  [0.34153346]\n",
            "  [0.33157645]\n",
            "  [0.31962105]\n",
            "  [0.31401471]\n",
            "  [0.30476875]\n",
            "  [0.07684304]\n",
            "  [0.        ]\n",
            "  [0.        ]\n",
            "  [0.        ]\n",
            "  [0.        ]\n",
            "  [0.        ]\n",
            "  [0.        ]\n",
            "  [0.        ]\n",
            "  [0.        ]\n",
            "  [0.        ]\n",
            "  [0.        ]]\n",
            "\n",
            " [[0.        ]\n",
            "  [0.        ]\n",
            "  [0.        ]\n",
            "  [0.        ]\n",
            "  [0.        ]\n",
            "  [0.        ]\n",
            "  [0.        ]\n",
            "  [0.        ]\n",
            "  [0.27126841]\n",
            "  [0.33190327]\n",
            "  [0.30530383]\n",
            "  [0.32717389]\n",
            "  [0.28753607]\n",
            "  [0.1861022 ]\n",
            "  [0.22234508]\n",
            "  [0.31401471]\n",
            "  [0.35369951]\n",
            "  [0.31249504]\n",
            "  [0.        ]\n",
            "  [0.        ]\n",
            "  [0.        ]\n",
            "  [0.        ]\n",
            "  [0.        ]\n",
            "  [0.        ]\n",
            "  [0.        ]\n",
            "  [0.        ]\n",
            "  [0.        ]\n",
            "  [0.        ]]\n",
            "\n",
            " [[0.        ]\n",
            "  [0.        ]\n",
            "  [0.        ]\n",
            "  [0.        ]\n",
            "  [0.        ]\n",
            "  [0.        ]\n",
            "  [0.        ]\n",
            "  [0.55965769]\n",
            "  [0.40128463]\n",
            "  [0.33190327]\n",
            "  [0.25341425]\n",
            "  [0.04138168]\n",
            "  [0.01619922]\n",
            "  [0.        ]\n",
            "  [0.00757995]\n",
            "  [0.25567996]\n",
            "  [0.35369951]\n",
            "  [0.35860086]\n",
            "  [0.        ]\n",
            "  [0.        ]\n",
            "  [0.        ]\n",
            "  [0.        ]\n",
            "  [0.        ]\n",
            "  [0.        ]\n",
            "  [0.        ]\n",
            "  [0.        ]\n",
            "  [0.        ]\n",
            "  [0.        ]]\n",
            "\n",
            " [[0.        ]\n",
            "  [0.        ]\n",
            "  [0.        ]\n",
            "  [0.        ]\n",
            "  [0.        ]\n",
            "  [0.        ]\n",
            "  [0.        ]\n",
            "  [0.82872388]\n",
            "  [0.40288976]\n",
            "  [0.27549283]\n",
            "  [0.03016836]\n",
            "  [0.        ]\n",
            "  [0.        ]\n",
            "  [0.        ]\n",
            "  [0.15412557]\n",
            "  [0.30780889]\n",
            "  [0.35369951]\n",
            "  [0.16649326]\n",
            "  [0.        ]\n",
            "  [0.        ]\n",
            "  [0.        ]\n",
            "  [0.        ]\n",
            "  [0.        ]\n",
            "  [0.        ]\n",
            "  [0.        ]\n",
            "  [0.        ]\n",
            "  [0.        ]\n",
            "  [0.        ]]\n",
            "\n",
            " [[0.        ]\n",
            "  [0.        ]\n",
            "  [0.        ]\n",
            "  [0.        ]\n",
            "  [0.        ]\n",
            "  [0.        ]\n",
            "  [0.        ]\n",
            "  [0.        ]\n",
            "  [0.04975929]\n",
            "  [0.02361367]\n",
            "  [0.        ]\n",
            "  [0.        ]\n",
            "  [0.        ]\n",
            "  [0.        ]\n",
            "  [0.26403478]\n",
            "  [0.31401471]\n",
            "  [0.35369951]\n",
            "  [0.16649326]\n",
            "  [0.        ]\n",
            "  [0.        ]\n",
            "  [0.        ]\n",
            "  [0.        ]\n",
            "  [0.        ]\n",
            "  [0.        ]\n",
            "  [0.        ]\n",
            "  [0.        ]\n",
            "  [0.        ]\n",
            "  [0.        ]]\n",
            "\n",
            " [[0.        ]\n",
            "  [0.        ]\n",
            "  [0.        ]\n",
            "  [0.        ]\n",
            "  [0.        ]\n",
            "  [0.        ]\n",
            "  [0.        ]\n",
            "  [0.        ]\n",
            "  [0.        ]\n",
            "  [0.        ]\n",
            "  [0.        ]\n",
            "  [0.        ]\n",
            "  [0.        ]\n",
            "  [0.15333772]\n",
            "  [0.31204111]\n",
            "  [0.31401471]\n",
            "  [0.27680831]\n",
            "  [0.02561435]\n",
            "  [0.        ]\n",
            "  [0.        ]\n",
            "  [0.        ]\n",
            "  [0.        ]\n",
            "  [0.        ]\n",
            "  [0.        ]\n",
            "  [0.        ]\n",
            "  [0.        ]\n",
            "  [0.        ]\n",
            "  [0.        ]]\n",
            "\n",
            " [[0.        ]\n",
            "  [0.        ]\n",
            "  [0.        ]\n",
            "  [0.        ]\n",
            "  [0.        ]\n",
            "  [0.        ]\n",
            "  [0.        ]\n",
            "  [0.        ]\n",
            "  [0.        ]\n",
            "  [0.        ]\n",
            "  [0.        ]\n",
            "  [0.        ]\n",
            "  [0.10259503]\n",
            "  [0.32371297]\n",
            "  [0.31962105]\n",
            "  [0.28670909]\n",
            "  [0.08807537]\n",
            "  [0.        ]\n",
            "  [0.        ]\n",
            "  [0.        ]\n",
            "  [0.        ]\n",
            "  [0.        ]\n",
            "  [0.        ]\n",
            "  [0.        ]\n",
            "  [0.        ]\n",
            "  [0.        ]\n",
            "  [0.        ]\n",
            "  [0.        ]]\n",
            "\n",
            " [[0.        ]\n",
            "  [0.        ]\n",
            "  [0.        ]\n",
            "  [0.        ]\n",
            "  [0.        ]\n",
            "  [0.        ]\n",
            "  [0.        ]\n",
            "  [0.        ]\n",
            "  [0.        ]\n",
            "  [0.        ]\n",
            "  [0.        ]\n",
            "  [0.        ]\n",
            "  [0.17279163]\n",
            "  [0.33157645]\n",
            "  [0.31962105]\n",
            "  [0.17872774]\n",
            "  [0.        ]\n",
            "  [0.        ]\n",
            "  [0.        ]\n",
            "  [0.        ]\n",
            "  [0.        ]\n",
            "  [0.        ]\n",
            "  [0.        ]\n",
            "  [0.        ]\n",
            "  [0.        ]\n",
            "  [0.        ]\n",
            "  [0.        ]\n",
            "  [0.        ]]\n",
            "\n",
            " [[0.        ]\n",
            "  [0.        ]\n",
            "  [0.        ]\n",
            "  [0.        ]\n",
            "  [0.        ]\n",
            "  [0.        ]\n",
            "  [0.        ]\n",
            "  [0.        ]\n",
            "  [0.        ]\n",
            "  [0.        ]\n",
            "  [0.        ]\n",
            "  [0.22759923]\n",
            "  [0.33208392]\n",
            "  [0.33157645]\n",
            "  [0.20086857]\n",
            "  [0.01489398]\n",
            "  [0.        ]\n",
            "  [0.        ]\n",
            "  [0.        ]\n",
            "  [0.        ]\n",
            "  [0.        ]\n",
            "  [0.        ]\n",
            "  [0.        ]\n",
            "  [0.        ]\n",
            "  [0.        ]\n",
            "  [0.        ]\n",
            "  [0.        ]\n",
            "  [0.        ]]\n",
            "\n",
            " [[0.        ]\n",
            "  [0.        ]\n",
            "  [0.        ]\n",
            "  [0.        ]\n",
            "  [0.        ]\n",
            "  [0.        ]\n",
            "  [0.        ]\n",
            "  [0.        ]\n",
            "  [0.        ]\n",
            "  [0.        ]\n",
            "  [0.03016836]\n",
            "  [0.30260352]\n",
            "  [0.34153346]\n",
            "  [0.30536487]\n",
            "  [0.04421635]\n",
            "  [0.        ]\n",
            "  [0.        ]\n",
            "  [0.        ]\n",
            "  [0.        ]\n",
            "  [0.        ]\n",
            "  [0.        ]\n",
            "  [0.        ]\n",
            "  [0.        ]\n",
            "  [0.        ]\n",
            "  [0.        ]\n",
            "  [0.        ]\n",
            "  [0.        ]\n",
            "  [0.        ]]\n",
            "\n",
            " [[0.        ]\n",
            "  [0.        ]\n",
            "  [0.        ]\n",
            "  [0.        ]\n",
            "  [0.        ]\n",
            "  [0.        ]\n",
            "  [0.        ]\n",
            "  [0.        ]\n",
            "  [0.        ]\n",
            "  [0.        ]\n",
            "  [0.23893343]\n",
            "  [0.32717389]\n",
            "  [0.34153346]\n",
            "  [0.18479162]\n",
            "  [0.        ]\n",
            "  [0.        ]\n",
            "  [0.        ]\n",
            "  [0.        ]\n",
            "  [0.        ]\n",
            "  [0.        ]\n",
            "  [0.        ]\n",
            "  [0.        ]\n",
            "  [0.        ]\n",
            "  [0.        ]\n",
            "  [0.        ]\n",
            "  [0.        ]\n",
            "  [0.        ]\n",
            "  [0.        ]]\n",
            "\n",
            " [[0.        ]\n",
            "  [0.        ]\n",
            "  [0.        ]\n",
            "  [0.        ]\n",
            "  [0.        ]\n",
            "  [0.        ]\n",
            "  [0.        ]\n",
            "  [0.        ]\n",
            "  [0.        ]\n",
            "  [0.10232591]\n",
            "  [0.29927016]\n",
            "  [0.32717389]\n",
            "  [0.25513764]\n",
            "  [0.01572695]\n",
            "  [0.        ]\n",
            "  [0.        ]\n",
            "  [0.        ]\n",
            "  [0.        ]\n",
            "  [0.        ]\n",
            "  [0.        ]\n",
            "  [0.        ]\n",
            "  [0.        ]\n",
            "  [0.        ]\n",
            "  [0.        ]\n",
            "  [0.        ]\n",
            "  [0.        ]\n",
            "  [0.        ]\n",
            "  [0.        ]]\n",
            "\n",
            " [[0.        ]\n",
            "  [0.        ]\n",
            "  [0.        ]\n",
            "  [0.        ]\n",
            "  [0.        ]\n",
            "  [0.        ]\n",
            "  [0.        ]\n",
            "  [0.        ]\n",
            "  [0.03049763]\n",
            "  [0.26237412]\n",
            "  [0.30530383]\n",
            "  [0.32717389]\n",
            "  [0.19034078]\n",
            "  [0.        ]\n",
            "  [0.        ]\n",
            "  [0.        ]\n",
            "  [0.        ]\n",
            "  [0.        ]\n",
            "  [0.        ]\n",
            "  [0.        ]\n",
            "  [0.        ]\n",
            "  [0.        ]\n",
            "  [0.        ]\n",
            "  [0.        ]\n",
            "  [0.        ]\n",
            "  [0.        ]\n",
            "  [0.        ]\n",
            "  [0.        ]]\n",
            "\n",
            " [[0.        ]\n",
            "  [0.        ]\n",
            "  [0.        ]\n",
            "  [0.        ]\n",
            "  [0.        ]\n",
            "  [0.        ]\n",
            "  [0.        ]\n",
            "  [0.        ]\n",
            "  [0.21508856]\n",
            "  [0.33190327]\n",
            "  [0.30530383]\n",
            "  [0.2237197 ]\n",
            "  [0.01619922]\n",
            "  [0.        ]\n",
            "  [0.        ]\n",
            "  [0.        ]\n",
            "  [0.        ]\n",
            "  [0.        ]\n",
            "  [0.        ]\n",
            "  [0.        ]\n",
            "  [0.        ]\n",
            "  [0.        ]\n",
            "  [0.        ]\n",
            "  [0.        ]\n",
            "  [0.        ]\n",
            "  [0.        ]\n",
            "  [0.        ]\n",
            "  [0.        ]]\n",
            "\n",
            " [[0.        ]\n",
            "  [0.        ]\n",
            "  [0.        ]\n",
            "  [0.        ]\n",
            "  [0.        ]\n",
            "  [0.        ]\n",
            "  [0.        ]\n",
            "  [0.        ]\n",
            "  [0.39807435]\n",
            "  [0.33190327]\n",
            "  [0.30530383]\n",
            "  [0.03232944]\n",
            "  [0.        ]\n",
            "  [0.        ]\n",
            "  [0.        ]\n",
            "  [0.        ]\n",
            "  [0.        ]\n",
            "  [0.        ]\n",
            "  [0.        ]\n",
            "  [0.        ]\n",
            "  [0.        ]\n",
            "  [0.        ]\n",
            "  [0.        ]\n",
            "  [0.        ]\n",
            "  [0.        ]\n",
            "  [0.        ]\n",
            "  [0.        ]\n",
            "  [0.        ]]\n",
            "\n",
            " [[0.        ]\n",
            "  [0.        ]\n",
            "  [0.        ]\n",
            "  [0.        ]\n",
            "  [0.        ]\n",
            "  [0.        ]\n",
            "  [0.        ]\n",
            "  [0.        ]\n",
            "  [0.39807435]\n",
            "  [0.33190327]\n",
            "  [0.30530383]\n",
            "  [0.05560663]\n",
            "  [0.02699869]\n",
            "  [0.02621158]\n",
            "  [0.02526649]\n",
            "  [0.0248233 ]\n",
            "  [0.00699011]\n",
            "  [0.        ]\n",
            "  [0.01530556]\n",
            "  [0.05278772]\n",
            "  [0.05588184]\n",
            "  [0.10407598]\n",
            "  [0.3905429 ]\n",
            "  [0.44219131]\n",
            "  [0.47387275]\n",
            "  [0.46647396]\n",
            "  [0.07356522]\n",
            "  [0.        ]]\n",
            "\n",
            " [[0.        ]\n",
            "  [0.        ]\n",
            "  [0.        ]\n",
            "  [0.        ]\n",
            "  [0.        ]\n",
            "  [0.        ]\n",
            "  [0.        ]\n",
            "  [0.        ]\n",
            "  [0.39807435]\n",
            "  [0.33190327]\n",
            "  [0.30530383]\n",
            "  [0.32717389]\n",
            "  [0.34153346]\n",
            "  [0.33157645]\n",
            "  [0.31962105]\n",
            "  [0.31401471]\n",
            "  [0.23486766]\n",
            "  [0.36628517]\n",
            "  [0.50814448]\n",
            "  [0.66776471]\n",
            "  [0.70690526]\n",
            "  [0.71165469]\n",
            "  [0.6587157 ]\n",
            "  [0.74582934]\n",
            "  [0.79926537]\n",
            "  [0.80284294]\n",
            "  [0.90485217]\n",
            "  [0.        ]]\n",
            "\n",
            " [[0.        ]\n",
            "  [0.        ]\n",
            "  [0.        ]\n",
            "  [0.        ]\n",
            "  [0.        ]\n",
            "  [0.        ]\n",
            "  [0.        ]\n",
            "  [0.        ]\n",
            "  [0.2792941 ]\n",
            "  [0.33190327]\n",
            "  [0.30530383]\n",
            "  [0.32717389]\n",
            "  [0.34153346]\n",
            "  [0.33157645]\n",
            "  [0.31962105]\n",
            "  [0.31401471]\n",
            "  [0.35369951]\n",
            "  [0.64804299]\n",
            "  [0.77446117]\n",
            "  [0.66776471]\n",
            "  [0.69572889]\n",
            "  [0.69477751]\n",
            "  [0.64309398]\n",
            "  [0.49820221]\n",
            "  [0.36962074]\n",
            "  [0.37127519]\n",
            "  [0.41932174]\n",
            "  [0.        ]]\n",
            "\n",
            " [[0.        ]\n",
            "  [0.        ]\n",
            "  [0.        ]\n",
            "  [0.        ]\n",
            "  [0.        ]\n",
            "  [0.        ]\n",
            "  [0.        ]\n",
            "  [0.        ]\n",
            "  [0.        ]\n",
            "  [0.15480073]\n",
            "  [0.14842834]\n",
            "  [0.15906083]\n",
            "  [0.16604196]\n",
            "  [0.21755609]\n",
            "  [0.31962105]\n",
            "  [0.31401471]\n",
            "  [0.35369951]\n",
            "  [0.39702238]\n",
            "  [0.3765167 ]\n",
            "  [0.3246445 ]\n",
            "  [0.11455777]\n",
            "  [0.        ]\n",
            "  [0.        ]\n",
            "  [0.        ]\n",
            "  [0.        ]\n",
            "  [0.        ]\n",
            "  [0.        ]\n",
            "  [0.        ]]\n",
            "\n",
            " [[0.        ]\n",
            "  [0.        ]\n",
            "  [0.        ]\n",
            "  [0.        ]\n",
            "  [0.        ]\n",
            "  [0.        ]\n",
            "  [0.        ]\n",
            "  [0.        ]\n",
            "  [0.        ]\n",
            "  [0.        ]\n",
            "  [0.        ]\n",
            "  [0.        ]\n",
            "  [0.        ]\n",
            "  [0.        ]\n",
            "  [0.        ]\n",
            "  [0.        ]\n",
            "  [0.        ]\n",
            "  [0.        ]\n",
            "  [0.        ]\n",
            "  [0.        ]\n",
            "  [0.        ]\n",
            "  [0.        ]\n",
            "  [0.        ]\n",
            "  [0.        ]\n",
            "  [0.        ]\n",
            "  [0.        ]\n",
            "  [0.        ]\n",
            "  [0.        ]]\n",
            "\n",
            " [[0.        ]\n",
            "  [0.        ]\n",
            "  [0.        ]\n",
            "  [0.        ]\n",
            "  [0.        ]\n",
            "  [0.        ]\n",
            "  [0.        ]\n",
            "  [0.        ]\n",
            "  [0.        ]\n",
            "  [0.        ]\n",
            "  [0.        ]\n",
            "  [0.        ]\n",
            "  [0.        ]\n",
            "  [0.        ]\n",
            "  [0.        ]\n",
            "  [0.        ]\n",
            "  [0.        ]\n",
            "  [0.        ]\n",
            "  [0.        ]\n",
            "  [0.        ]\n",
            "  [0.        ]\n",
            "  [0.        ]\n",
            "  [0.        ]\n",
            "  [0.        ]\n",
            "  [0.        ]\n",
            "  [0.        ]\n",
            "  [0.        ]\n",
            "  [0.        ]]\n",
            "\n",
            " [[0.        ]\n",
            "  [0.        ]\n",
            "  [0.        ]\n",
            "  [0.        ]\n",
            "  [0.        ]\n",
            "  [0.        ]\n",
            "  [0.        ]\n",
            "  [0.        ]\n",
            "  [0.        ]\n",
            "  [0.        ]\n",
            "  [0.        ]\n",
            "  [0.        ]\n",
            "  [0.        ]\n",
            "  [0.        ]\n",
            "  [0.        ]\n",
            "  [0.        ]\n",
            "  [0.        ]\n",
            "  [0.        ]\n",
            "  [0.        ]\n",
            "  [0.        ]\n",
            "  [0.        ]\n",
            "  [0.        ]\n",
            "  [0.        ]\n",
            "  [0.        ]\n",
            "  [0.        ]\n",
            "  [0.        ]\n",
            "  [0.        ]\n",
            "  [0.        ]]\n",
            "\n",
            " [[0.        ]\n",
            "  [0.        ]\n",
            "  [0.        ]\n",
            "  [0.        ]\n",
            "  [0.        ]\n",
            "  [0.        ]\n",
            "  [0.        ]\n",
            "  [0.        ]\n",
            "  [0.        ]\n",
            "  [0.        ]\n",
            "  [0.        ]\n",
            "  [0.        ]\n",
            "  [0.        ]\n",
            "  [0.        ]\n",
            "  [0.        ]\n",
            "  [0.        ]\n",
            "  [0.        ]\n",
            "  [0.        ]\n",
            "  [0.        ]\n",
            "  [0.        ]\n",
            "  [0.        ]\n",
            "  [0.        ]\n",
            "  [0.        ]\n",
            "  [0.        ]\n",
            "  [0.        ]\n",
            "  [0.        ]\n",
            "  [0.        ]\n",
            "  [0.        ]]\n",
            "\n",
            " [[0.        ]\n",
            "  [0.        ]\n",
            "  [0.        ]\n",
            "  [0.        ]\n",
            "  [0.        ]\n",
            "  [0.        ]\n",
            "  [0.        ]\n",
            "  [0.        ]\n",
            "  [0.        ]\n",
            "  [0.        ]\n",
            "  [0.        ]\n",
            "  [0.        ]\n",
            "  [0.        ]\n",
            "  [0.        ]\n",
            "  [0.        ]\n",
            "  [0.        ]\n",
            "  [0.        ]\n",
            "  [0.        ]\n",
            "  [0.        ]\n",
            "  [0.        ]\n",
            "  [0.        ]\n",
            "  [0.        ]\n",
            "  [0.        ]\n",
            "  [0.        ]\n",
            "  [0.        ]\n",
            "  [0.        ]\n",
            "  [0.        ]\n",
            "  [0.        ]]]\n"
          ]
        }
      ]
    },
    {
      "cell_type": "markdown",
      "metadata": {
        "id": "vjs8XA-GOiXM"
      },
      "source": [
        "# Modelo\n",
        "\n",
        "- `Conv2D` [INFO](https://keras.io/api/layers/convolution_layers/convolution2d/)\n",
        "- `Activation` [INFO](https://keras.io/api/layers/activations/)\n",
        "  - *relu*: Applies the rectified linear unit activation function\n",
        "  - *softmax*: Converts a vector of values to a probability distribution\n",
        "- `MaxPooling2D`[INFO](https://keras.io/api/layers/pooling_layers/max_pooling2d/)\n",
        "-`Flatten` [INFO](https://keras.io/api/layers/reshaping_layers/flatten/)\n",
        "- `Dense` [INFO](https://keras.io/api/layers/core_layers/dense/)\n",
        "- `compile()` [INFO](https://keras.io/api/optimizers/)"
      ]
    },
    {
      "cell_type": "code",
      "metadata": {
        "id": "F-AhwQf9Oh1G"
      },
      "source": [
        "modelo = keras.models.Sequential()\n",
        "\n",
        "#### Primera Capa\n",
        "# filtro\n",
        "modelo.add(keras.layers.Conv2D(64,kernel_size=(3,3),input_shape = x_entrenamientoD.shape[1:]))\n",
        "# funcion de activacion\n",
        "modelo.add(keras.layers.Activation(\"relu\"))\n",
        "# Valor maximo de una matriz 2x2\n",
        "modelo.add(keras.layers.MaxPooling2D(pool_size=(2,2)))\n",
        "\n",
        "#### Segunda Capa\n",
        "# filtro\n",
        "modelo.add(keras.layers.Conv2D(64,(3,3)))\n",
        "# funcion de activacion\n",
        "modelo.add(keras.layers.Activation(\"relu\"))\n",
        "# Valor maximo de una matriz 2x2\n",
        "modelo.add(keras.layers.MaxPooling2D(pool_size=(2,2)))\n",
        "\n",
        "#### Tercera Capa\n",
        "# filtro\n",
        "modelo.add(keras.layers.Conv2D(64,(3,3)))\n",
        "# funcion de activacion\n",
        "modelo.add(keras.layers.Activation(\"relu\"))\n",
        "# Valor maximo de una matriz 2x2\n",
        "modelo.add(keras.layers.MaxPooling2D(pool_size=(2,2)))\n",
        "\n",
        "modelo.add(Flatten())\n",
        "modelo.add(Dense(64))\n",
        "modelo.add(Activation(\"relu\"))\n",
        "\n",
        "modelo.add(Dense(32))\n",
        "modelo.add(Activation(\"relu\"))\n",
        "\n",
        "modelo.add(Dense(10))\n",
        "modelo.add(Activation(\"softmax\"))\n"
      ],
      "execution_count": null,
      "outputs": []
    },
    {
      "cell_type": "code",
      "metadata": {
        "colab": {
          "base_uri": "https://localhost:8080/"
        },
        "id": "2ZCaohcKZX1F",
        "outputId": "e1208469-cd34-4105-affc-0fde0946deb2"
      },
      "source": [
        "modelo.summary()"
      ],
      "execution_count": null,
      "outputs": [
        {
          "output_type": "stream",
          "name": "stdout",
          "text": [
            "Model: \"sequential\"\n",
            "_________________________________________________________________\n",
            "Layer (type)                 Output Shape              Param #   \n",
            "=================================================================\n",
            "conv2d (Conv2D)              (None, 26, 26, 64)        640       \n",
            "_________________________________________________________________\n",
            "activation (Activation)      (None, 26, 26, 64)        0         \n",
            "_________________________________________________________________\n",
            "max_pooling2d (MaxPooling2D) (None, 13, 13, 64)        0         \n",
            "_________________________________________________________________\n",
            "conv2d_1 (Conv2D)            (None, 11, 11, 64)        36928     \n",
            "_________________________________________________________________\n",
            "activation_1 (Activation)    (None, 11, 11, 64)        0         \n",
            "_________________________________________________________________\n",
            "max_pooling2d_1 (MaxPooling2 (None, 5, 5, 64)          0         \n",
            "_________________________________________________________________\n",
            "conv2d_2 (Conv2D)            (None, 3, 3, 64)          36928     \n",
            "_________________________________________________________________\n",
            "activation_2 (Activation)    (None, 3, 3, 64)          0         \n",
            "_________________________________________________________________\n",
            "max_pooling2d_2 (MaxPooling2 (None, 1, 1, 64)          0         \n",
            "_________________________________________________________________\n",
            "flatten (Flatten)            (None, 64)                0         \n",
            "_________________________________________________________________\n",
            "dense (Dense)                (None, 64)                4160      \n",
            "_________________________________________________________________\n",
            "activation_3 (Activation)    (None, 64)                0         \n",
            "_________________________________________________________________\n",
            "dense_1 (Dense)              (None, 32)                2080      \n",
            "_________________________________________________________________\n",
            "activation_4 (Activation)    (None, 32)                0         \n",
            "_________________________________________________________________\n",
            "dense_2 (Dense)              (None, 10)                330       \n",
            "_________________________________________________________________\n",
            "activation_5 (Activation)    (None, 10)                0         \n",
            "=================================================================\n",
            "Total params: 81,066\n",
            "Trainable params: 81,066\n",
            "Non-trainable params: 0\n",
            "_________________________________________________________________\n"
          ]
        }
      ]
    },
    {
      "cell_type": "code",
      "metadata": {
        "id": "3uZuex1ZdtkT"
      },
      "source": [
        "modelo.compile(optimizer=\"adam\",loss=\"sparse_categorical_crossentropy\",metrics=[\"accuracy\"])"
      ],
      "execution_count": null,
      "outputs": []
    },
    {
      "cell_type": "code",
      "metadata": {
        "colab": {
          "base_uri": "https://localhost:8080/"
        },
        "id": "hib5kHVpfNIc",
        "outputId": "6210cf42-1607-45d2-8977-5862cc278206"
      },
      "source": [
        "Tinicio = time.time()\n",
        "\n",
        "ModEv = modelo.fit(x_entrenamientoD,y_entrenamiento,validation_data=(x_pruebaD,y_prueba) ,epochs=100, batch_size=128,validation_split=0.3)\n",
        "\n",
        "Tfin = time.time()"
      ],
      "execution_count": null,
      "outputs": [
        {
          "output_type": "stream",
          "name": "stdout",
          "text": [
            "Epoch 1/100\n",
            "329/329 [==============================] - 60s 183ms/step - loss: 0.0043 - accuracy: 0.9988 - val_loss: 0.0538 - val_accuracy: 0.9877\n",
            "Epoch 2/100\n",
            "329/329 [==============================] - 61s 184ms/step - loss: 0.0014 - accuracy: 0.9998 - val_loss: 0.0573 - val_accuracy: 0.9876\n",
            "Epoch 3/100\n",
            "329/329 [==============================] - 61s 184ms/step - loss: 8.3059e-04 - accuracy: 0.9999 - val_loss: 0.0587 - val_accuracy: 0.9875\n",
            "Epoch 4/100\n",
            "329/329 [==============================] - 61s 184ms/step - loss: 5.8225e-04 - accuracy: 1.0000 - val_loss: 0.0603 - val_accuracy: 0.9882\n",
            "Epoch 5/100\n",
            "329/329 [==============================] - 60s 184ms/step - loss: 3.5690e-04 - accuracy: 1.0000 - val_loss: 0.0632 - val_accuracy: 0.9877\n",
            "Epoch 6/100\n",
            "329/329 [==============================] - 61s 185ms/step - loss: 2.2184e-04 - accuracy: 1.0000 - val_loss: 0.0653 - val_accuracy: 0.9881\n",
            "Epoch 7/100\n",
            "329/329 [==============================] - 61s 185ms/step - loss: 1.4361e-04 - accuracy: 1.0000 - val_loss: 0.0675 - val_accuracy: 0.9878\n",
            "Epoch 8/100\n",
            "329/329 [==============================] - 61s 185ms/step - loss: 1.0644e-04 - accuracy: 1.0000 - val_loss: 0.0697 - val_accuracy: 0.9882\n",
            "Epoch 9/100\n",
            "329/329 [==============================] - 61s 184ms/step - loss: 8.6248e-05 - accuracy: 1.0000 - val_loss: 0.0715 - val_accuracy: 0.9881\n",
            "Epoch 10/100\n",
            "329/329 [==============================] - 61s 184ms/step - loss: 6.4923e-05 - accuracy: 1.0000 - val_loss: 0.0729 - val_accuracy: 0.9879\n",
            "Epoch 11/100\n",
            "329/329 [==============================] - 61s 186ms/step - loss: 5.0311e-05 - accuracy: 1.0000 - val_loss: 0.0748 - val_accuracy: 0.9884\n",
            "Epoch 12/100\n",
            "329/329 [==============================] - 61s 185ms/step - loss: 4.1023e-05 - accuracy: 1.0000 - val_loss: 0.0765 - val_accuracy: 0.9882\n",
            "Epoch 13/100\n",
            "329/329 [==============================] - 61s 185ms/step - loss: 3.2635e-05 - accuracy: 1.0000 - val_loss: 0.0779 - val_accuracy: 0.9884\n",
            "Epoch 14/100\n",
            "329/329 [==============================] - 61s 185ms/step - loss: 2.6133e-05 - accuracy: 1.0000 - val_loss: 0.0794 - val_accuracy: 0.9885\n",
            "Epoch 15/100\n",
            "329/329 [==============================] - 61s 184ms/step - loss: 2.1275e-05 - accuracy: 1.0000 - val_loss: 0.0821 - val_accuracy: 0.9882\n",
            "Epoch 16/100\n",
            "329/329 [==============================] - 61s 184ms/step - loss: 1.7259e-05 - accuracy: 1.0000 - val_loss: 0.0838 - val_accuracy: 0.9882\n",
            "Epoch 17/100\n",
            "329/329 [==============================] - 61s 184ms/step - loss: 1.4016e-05 - accuracy: 1.0000 - val_loss: 0.0850 - val_accuracy: 0.9885\n",
            "Epoch 18/100\n",
            "329/329 [==============================] - 60s 184ms/step - loss: 1.1441e-05 - accuracy: 1.0000 - val_loss: 0.0867 - val_accuracy: 0.9885\n",
            "Epoch 19/100\n",
            "329/329 [==============================] - 61s 184ms/step - loss: 9.5667e-06 - accuracy: 1.0000 - val_loss: 0.0881 - val_accuracy: 0.9884\n",
            "Epoch 20/100\n",
            "329/329 [==============================] - 61s 185ms/step - loss: 7.8180e-06 - accuracy: 1.0000 - val_loss: 0.0898 - val_accuracy: 0.9884\n",
            "Epoch 21/100\n",
            "329/329 [==============================] - 61s 185ms/step - loss: 6.3036e-06 - accuracy: 1.0000 - val_loss: 0.0918 - val_accuracy: 0.9883\n",
            "Epoch 22/100\n",
            "329/329 [==============================] - 61s 185ms/step - loss: 5.2808e-06 - accuracy: 1.0000 - val_loss: 0.0928 - val_accuracy: 0.9883\n",
            "Epoch 23/100\n",
            "329/329 [==============================] - 61s 185ms/step - loss: 4.2035e-06 - accuracy: 1.0000 - val_loss: 0.0950 - val_accuracy: 0.9886\n",
            "Epoch 24/100\n",
            "329/329 [==============================] - 61s 184ms/step - loss: 3.5889e-06 - accuracy: 1.0000 - val_loss: 0.0958 - val_accuracy: 0.9881\n",
            "Epoch 25/100\n",
            "329/329 [==============================] - 61s 185ms/step - loss: 2.8948e-06 - accuracy: 1.0000 - val_loss: 0.0982 - val_accuracy: 0.9882\n",
            "Epoch 26/100\n",
            "329/329 [==============================] - 61s 185ms/step - loss: 2.3477e-06 - accuracy: 1.0000 - val_loss: 0.0997 - val_accuracy: 0.9884\n",
            "Epoch 27/100\n",
            "329/329 [==============================] - 61s 185ms/step - loss: 1.9313e-06 - accuracy: 1.0000 - val_loss: 0.1011 - val_accuracy: 0.9886\n",
            "Epoch 28/100\n",
            "329/329 [==============================] - 61s 185ms/step - loss: 1.5923e-06 - accuracy: 1.0000 - val_loss: 0.1030 - val_accuracy: 0.9883\n",
            "Epoch 29/100\n",
            "329/329 [==============================] - 61s 185ms/step - loss: 1.3236e-06 - accuracy: 1.0000 - val_loss: 0.1044 - val_accuracy: 0.9884\n",
            "Epoch 30/100\n",
            "329/329 [==============================] - 61s 185ms/step - loss: 1.0798e-06 - accuracy: 1.0000 - val_loss: 0.1057 - val_accuracy: 0.9882\n",
            "Epoch 31/100\n",
            "329/329 [==============================] - 61s 185ms/step - loss: 8.9951e-07 - accuracy: 1.0000 - val_loss: 0.1072 - val_accuracy: 0.9881\n",
            "Epoch 32/100\n",
            "329/329 [==============================] - 61s 185ms/step - loss: 7.4405e-07 - accuracy: 1.0000 - val_loss: 0.1089 - val_accuracy: 0.9884\n",
            "Epoch 33/100\n",
            "329/329 [==============================] - 61s 185ms/step - loss: 6.1746e-07 - accuracy: 1.0000 - val_loss: 0.1101 - val_accuracy: 0.9886\n",
            "Epoch 34/100\n",
            "329/329 [==============================] - 61s 185ms/step - loss: 5.0920e-07 - accuracy: 1.0000 - val_loss: 0.1123 - val_accuracy: 0.9882\n",
            "Epoch 35/100\n",
            "329/329 [==============================] - 61s 185ms/step - loss: 4.2434e-07 - accuracy: 1.0000 - val_loss: 0.1133 - val_accuracy: 0.9883\n",
            "Epoch 36/100\n",
            "329/329 [==============================] - 61s 186ms/step - loss: 3.4781e-07 - accuracy: 1.0000 - val_loss: 0.1149 - val_accuracy: 0.9884\n",
            "Epoch 37/100\n",
            "329/329 [==============================] - 61s 186ms/step - loss: 2.8762e-07 - accuracy: 1.0000 - val_loss: 0.1162 - val_accuracy: 0.9882\n",
            "Epoch 38/100\n",
            "329/329 [==============================] - 61s 185ms/step - loss: 2.3561e-07 - accuracy: 1.0000 - val_loss: 0.1183 - val_accuracy: 0.9883\n",
            "Epoch 39/100\n",
            "329/329 [==============================] - 61s 185ms/step - loss: 2.0280e-07 - accuracy: 1.0000 - val_loss: 0.1196 - val_accuracy: 0.9884\n",
            "Epoch 40/100\n",
            "329/329 [==============================] - 62s 187ms/step - loss: 1.6621e-07 - accuracy: 1.0000 - val_loss: 0.1204 - val_accuracy: 0.9882\n",
            "Epoch 41/100\n",
            "329/329 [==============================] - 61s 187ms/step - loss: 1.3874e-07 - accuracy: 1.0000 - val_loss: 0.1223 - val_accuracy: 0.9884\n",
            "Epoch 42/100\n",
            "329/329 [==============================] - 61s 186ms/step - loss: 1.0940e-07 - accuracy: 1.0000 - val_loss: 0.1238 - val_accuracy: 0.9885\n",
            "Epoch 43/100\n",
            "329/329 [==============================] - 61s 186ms/step - loss: 9.2989e-08 - accuracy: 1.0000 - val_loss: 0.1253 - val_accuracy: 0.9884\n",
            "Epoch 44/100\n",
            "329/329 [==============================] - 61s 185ms/step - loss: 7.7247e-08 - accuracy: 1.0000 - val_loss: 0.1264 - val_accuracy: 0.9885\n",
            "Epoch 45/100\n",
            "329/329 [==============================] - 61s 186ms/step - loss: 6.6317e-08 - accuracy: 1.0000 - val_loss: 0.1284 - val_accuracy: 0.9886\n",
            "Epoch 46/100\n",
            "329/329 [==============================] - 61s 186ms/step - loss: 5.3993e-08 - accuracy: 1.0000 - val_loss: 0.1299 - val_accuracy: 0.9886\n",
            "Epoch 47/100\n",
            "329/329 [==============================] - 61s 186ms/step - loss: 4.5257e-08 - accuracy: 1.0000 - val_loss: 0.1308 - val_accuracy: 0.9886\n",
            "Epoch 48/100\n",
            "329/329 [==============================] - 61s 186ms/step - loss: 3.7662e-08 - accuracy: 1.0000 - val_loss: 0.1323 - val_accuracy: 0.9886\n",
            "Epoch 49/100\n",
            "329/329 [==============================] - 61s 186ms/step - loss: 3.1857e-08 - accuracy: 1.0000 - val_loss: 0.1338 - val_accuracy: 0.9887\n",
            "Epoch 50/100\n",
            "329/329 [==============================] - 61s 186ms/step - loss: 2.6694e-08 - accuracy: 1.0000 - val_loss: 0.1349 - val_accuracy: 0.9886\n",
            "Epoch 51/100\n",
            "329/329 [==============================] - 61s 186ms/step - loss: 2.2491e-08 - accuracy: 1.0000 - val_loss: 0.1368 - val_accuracy: 0.9886\n",
            "Epoch 52/100\n",
            "329/329 [==============================] - 61s 185ms/step - loss: 1.9122e-08 - accuracy: 1.0000 - val_loss: 0.1377 - val_accuracy: 0.9884\n",
            "Epoch 53/100\n",
            "329/329 [==============================] - 61s 186ms/step - loss: 1.5824e-08 - accuracy: 1.0000 - val_loss: 0.1387 - val_accuracy: 0.9887\n",
            "Epoch 54/100\n",
            "329/329 [==============================] - 61s 185ms/step - loss: 1.3564e-08 - accuracy: 1.0000 - val_loss: 0.1406 - val_accuracy: 0.9886\n",
            "Epoch 55/100\n",
            "329/329 [==============================] - 61s 186ms/step - loss: 1.1660e-08 - accuracy: 1.0000 - val_loss: 0.1415 - val_accuracy: 0.9887\n",
            "Epoch 56/100\n",
            "329/329 [==============================] - 61s 186ms/step - loss: 9.6815e-09 - accuracy: 1.0000 - val_loss: 0.1432 - val_accuracy: 0.9887\n",
            "Epoch 57/100\n",
            "329/329 [==============================] - 61s 186ms/step - loss: 8.3503e-09 - accuracy: 1.0000 - val_loss: 0.1442 - val_accuracy: 0.9886\n",
            "Epoch 58/100\n",
            "329/329 [==============================] - 61s 186ms/step - loss: 6.9993e-09 - accuracy: 1.0000 - val_loss: 0.1452 - val_accuracy: 0.9887\n",
            "Epoch 59/100\n",
            "329/329 [==============================] - 61s 186ms/step - loss: 6.1960e-09 - accuracy: 1.0000 - val_loss: 0.1467 - val_accuracy: 0.9888\n",
            "Epoch 60/100\n",
            "329/329 [==============================] - 61s 186ms/step - loss: 5.0919e-09 - accuracy: 1.0000 - val_loss: 0.1475 - val_accuracy: 0.9889\n",
            "Epoch 61/100\n",
            "329/329 [==============================] - 61s 185ms/step - loss: 4.5072e-09 - accuracy: 1.0000 - val_loss: 0.1490 - val_accuracy: 0.9889\n",
            "Epoch 62/100\n",
            "329/329 [==============================] - 61s 185ms/step - loss: 3.8062e-09 - accuracy: 1.0000 - val_loss: 0.1498 - val_accuracy: 0.9887\n",
            "Epoch 63/100\n",
            "329/329 [==============================] - 61s 185ms/step - loss: 3.3606e-09 - accuracy: 1.0000 - val_loss: 0.1508 - val_accuracy: 0.9887\n",
            "Epoch 64/100\n",
            "329/329 [==============================] - 61s 185ms/step - loss: 2.8497e-09 - accuracy: 1.0000 - val_loss: 0.1519 - val_accuracy: 0.9888\n",
            "Epoch 65/100\n",
            "329/329 [==============================] - 61s 186ms/step - loss: 2.5460e-09 - accuracy: 1.0000 - val_loss: 0.1525 - val_accuracy: 0.9889\n",
            "Epoch 66/100\n",
            "329/329 [==============================] - 61s 185ms/step - loss: 2.2139e-09 - accuracy: 1.0000 - val_loss: 0.1532 - val_accuracy: 0.9888\n",
            "Epoch 67/100\n",
            "329/329 [==============================] - 61s 185ms/step - loss: 1.9244e-09 - accuracy: 1.0000 - val_loss: 0.1539 - val_accuracy: 0.9888\n",
            "Epoch 68/100\n",
            "329/329 [==============================] - 61s 185ms/step - loss: 1.6604e-09 - accuracy: 1.0000 - val_loss: 0.1546 - val_accuracy: 0.9889\n",
            "Epoch 69/100\n",
            "329/329 [==============================] - 61s 185ms/step - loss: 1.4390e-09 - accuracy: 1.0000 - val_loss: 0.1547 - val_accuracy: 0.9888\n",
            "Epoch 70/100\n",
            "329/329 [==============================] - 61s 185ms/step - loss: 1.3851e-09 - accuracy: 1.0000 - val_loss: 0.1558 - val_accuracy: 0.9888\n",
            "Epoch 71/100\n",
            "329/329 [==============================] - 61s 185ms/step - loss: 1.1864e-09 - accuracy: 1.0000 - val_loss: 0.1558 - val_accuracy: 0.9885\n",
            "Epoch 72/100\n",
            "329/329 [==============================] - 61s 185ms/step - loss: 1.0388e-09 - accuracy: 1.0000 - val_loss: 0.1564 - val_accuracy: 0.9887\n",
            "Epoch 73/100\n",
            "329/329 [==============================] - 61s 185ms/step - loss: 9.5935e-10 - accuracy: 1.0000 - val_loss: 0.1565 - val_accuracy: 0.9888\n",
            "Epoch 74/100\n",
            "329/329 [==============================] - 61s 185ms/step - loss: 8.4014e-10 - accuracy: 1.0000 - val_loss: 0.1569 - val_accuracy: 0.9886\n",
            "Epoch 75/100\n",
            "329/329 [==============================] - 61s 185ms/step - loss: 7.9473e-10 - accuracy: 1.0000 - val_loss: 0.1570 - val_accuracy: 0.9888\n",
            "Epoch 76/100\n",
            "329/329 [==============================] - 61s 185ms/step - loss: 6.9539e-10 - accuracy: 1.0000 - val_loss: 0.1570 - val_accuracy: 0.9887\n",
            "Epoch 77/100\n",
            "329/329 [==============================] - 61s 185ms/step - loss: 6.6984e-10 - accuracy: 1.0000 - val_loss: 0.1570 - val_accuracy: 0.9886\n",
            "Epoch 78/100\n",
            "329/329 [==============================] - 61s 185ms/step - loss: 6.2727e-10 - accuracy: 1.0000 - val_loss: 0.1570 - val_accuracy: 0.9886\n",
            "Epoch 79/100\n",
            "329/329 [==============================] - 61s 185ms/step - loss: 5.7618e-10 - accuracy: 1.0000 - val_loss: 0.1567 - val_accuracy: 0.9887\n",
            "Epoch 80/100\n",
            "329/329 [==============================] - 61s 186ms/step - loss: 5.7050e-10 - accuracy: 1.0000 - val_loss: 0.1566 - val_accuracy: 0.9887\n",
            "Epoch 81/100\n",
            "329/329 [==============================] - 61s 185ms/step - loss: 5.5915e-10 - accuracy: 1.0000 - val_loss: 0.1565 - val_accuracy: 0.9887\n",
            "Epoch 82/100\n",
            "329/329 [==============================] - 61s 186ms/step - loss: 5.7334e-10 - accuracy: 1.0000 - val_loss: 0.1574 - val_accuracy: 0.9887\n",
            "Epoch 83/100\n",
            "329/329 [==============================] - 61s 185ms/step - loss: 5.2225e-10 - accuracy: 1.0000 - val_loss: 0.1571 - val_accuracy: 0.9885\n",
            "Epoch 84/100\n",
            "329/329 [==============================] - 61s 185ms/step - loss: 4.8819e-10 - accuracy: 1.0000 - val_loss: 0.1567 - val_accuracy: 0.9885\n",
            "Epoch 85/100\n",
            "329/329 [==============================] - 61s 185ms/step - loss: 4.9954e-10 - accuracy: 1.0000 - val_loss: 0.1568 - val_accuracy: 0.9886\n",
            "Epoch 86/100\n",
            "329/329 [==============================] - 61s 185ms/step - loss: 4.9103e-10 - accuracy: 1.0000 - val_loss: 0.1570 - val_accuracy: 0.9886\n",
            "Epoch 87/100\n",
            "329/329 [==============================] - 61s 185ms/step - loss: 4.6832e-10 - accuracy: 1.0000 - val_loss: 0.1571 - val_accuracy: 0.9886\n",
            "Epoch 88/100\n",
            "329/329 [==============================] - 61s 186ms/step - loss: 4.5413e-10 - accuracy: 1.0000 - val_loss: 0.1569 - val_accuracy: 0.9885\n",
            "Epoch 89/100\n",
            "329/329 [==============================] - 61s 186ms/step - loss: 4.6832e-10 - accuracy: 1.0000 - val_loss: 0.1574 - val_accuracy: 0.9884\n",
            "Epoch 90/100\n",
            "329/329 [==============================] - 61s 186ms/step - loss: 4.4845e-10 - accuracy: 1.0000 - val_loss: 0.1571 - val_accuracy: 0.9889\n",
            "Epoch 91/100\n",
            "329/329 [==============================] - 61s 185ms/step - loss: 4.0304e-10 - accuracy: 1.0000 - val_loss: 0.1571 - val_accuracy: 0.9886\n",
            "Epoch 92/100\n",
            "329/329 [==============================] - 61s 185ms/step - loss: 4.2007e-10 - accuracy: 1.0000 - val_loss: 0.1577 - val_accuracy: 0.9887\n",
            "Epoch 93/100\n",
            "329/329 [==============================] - 61s 185ms/step - loss: 3.7750e-10 - accuracy: 1.0000 - val_loss: 0.1574 - val_accuracy: 0.9888\n",
            "Epoch 94/100\n",
            "329/329 [==============================] - 61s 186ms/step - loss: 3.8317e-10 - accuracy: 1.0000 - val_loss: 0.1578 - val_accuracy: 0.9887\n",
            "Epoch 95/100\n",
            "329/329 [==============================] - 61s 186ms/step - loss: 3.9453e-10 - accuracy: 1.0000 - val_loss: 0.1582 - val_accuracy: 0.9887\n",
            "Epoch 96/100\n",
            "329/329 [==============================] - 61s 185ms/step - loss: 3.6047e-10 - accuracy: 1.0000 - val_loss: 0.1585 - val_accuracy: 0.9887\n",
            "Epoch 97/100\n",
            "329/329 [==============================] - 61s 185ms/step - loss: 3.6047e-10 - accuracy: 1.0000 - val_loss: 0.1584 - val_accuracy: 0.9887\n",
            "Epoch 98/100\n",
            "329/329 [==============================] - 61s 186ms/step - loss: 3.6614e-10 - accuracy: 1.0000 - val_loss: 0.1588 - val_accuracy: 0.9887\n",
            "Epoch 99/100\n",
            "329/329 [==============================] - 61s 186ms/step - loss: 3.3208e-10 - accuracy: 1.0000 - val_loss: 0.1590 - val_accuracy: 0.9886\n",
            "Epoch 100/100\n",
            "329/329 [==============================] - 61s 187ms/step - loss: 3.6614e-10 - accuracy: 1.0000 - val_loss: 0.1593 - val_accuracy: 0.9886\n"
          ]
        }
      ]
    },
    {
      "cell_type": "code",
      "metadata": {
        "colab": {
          "base_uri": "https://localhost:8080/"
        },
        "id": "SaadIADEhhGs",
        "outputId": "bcf0ae71-8861-4f2b-9b60-50e5b06b8098"
      },
      "source": [
        "print(\"Tiempo de entrenamiento del modelo: \",(Tfin-Tinicio)/60, \"Minutos\")"
      ],
      "execution_count": null,
      "outputs": [
        {
          "output_type": "stream",
          "name": "stdout",
          "text": [
            "Tiempo de entrenamiento del modelo:  102.36870189905167 Minutos\n"
          ]
        }
      ]
    },
    {
      "cell_type": "markdown",
      "metadata": {
        "id": "gM-nckcuio9J"
      },
      "source": [
        "# Probar modelo\n",
        "\n",
        "\n"
      ]
    },
    {
      "cell_type": "markdown",
      "metadata": {
        "id": "dFBueL_clmdU"
      },
      "source": [
        "## Predicción del modelo\n",
        "\n",
        "Para analizar de una mejor manera la eficiencia del modelo, usaremos las $10,000$ imágenes que reservamos de nuestro set de datos original. "
      ]
    },
    {
      "cell_type": "code",
      "metadata": {
        "id": "jLGYbnbplh4I"
      },
      "source": [
        "from sklearn.metrics import classification_report\n",
        "from sklearn.model_selection import train_test_split\n",
        "from sklearn.preprocessing import LabelBinarizer\n",
        "from sklearn.tree import DecisionTreeClassifier"
      ],
      "execution_count": null,
      "outputs": []
    },
    {
      "cell_type": "code",
      "metadata": {
        "colab": {
          "base_uri": "https://localhost:8080/"
        },
        "id": "kQ48OJkEiyMo",
        "outputId": "d421ca96-adb2-4f50-e4b9-3405d319050a"
      },
      "source": [
        "### Predicciones\n",
        "predicciones_modelo = modelo.predict([x_pruebaD])\n",
        "print(predicciones_modelo)"
      ],
      "execution_count": null,
      "outputs": [
        {
          "output_type": "stream",
          "name": "stdout",
          "text": [
            "[[0.00000000e+00 1.84177895e-32 4.46207697e-35 ... 1.00000000e+00\n",
            "  0.00000000e+00 1.12270158e-30]\n",
            " [3.80969961e-24 6.40188550e-33 1.00000000e+00 ... 0.00000000e+00\n",
            "  6.20374338e-31 1.04646284e-34]\n",
            " [1.01073736e-32 1.00000000e+00 4.44854765e-28 ... 1.66720157e-30\n",
            "  1.29627300e-33 0.00000000e+00]\n",
            " ...\n",
            " [0.00000000e+00 0.00000000e+00 0.00000000e+00 ... 7.46985408e-38\n",
            "  2.78807217e-34 3.44996513e-32]\n",
            " [7.08246490e-31 9.89770560e-34 0.00000000e+00 ... 8.72319280e-37\n",
            "  2.64822570e-27 3.40283741e-37]\n",
            " [1.87447480e-26 8.49178398e-30 1.20191788e-29 ... 0.00000000e+00\n",
            "  1.70134164e-24 0.00000000e+00]]\n"
          ]
        }
      ]
    },
    {
      "cell_type": "code",
      "metadata": {
        "colab": {
          "base_uri": "https://localhost:8080/"
        },
        "id": "ZCfEjnlBqvez",
        "outputId": "35b16c6e-3980-409a-fff8-cb33c977e060"
      },
      "source": [
        "print(modelo.evaluate(x_pruebaD,y_prueba))"
      ],
      "execution_count": null,
      "outputs": [
        {
          "output_type": "stream",
          "name": "stdout",
          "text": [
            "313/313 [==============================] - 4s 14ms/step - loss: 0.1714 - accuracy: 0.9882\n",
            "[0.17144224047660828, 0.9882000088691711]\n"
          ]
        }
      ]
    },
    {
      "cell_type": "code",
      "metadata": {
        "colab": {
          "base_uri": "https://localhost:8080/"
        },
        "id": "P_81ykGou8M9",
        "outputId": "c4f663f5-38c1-4702-adfe-5dc14b144ade"
      },
      "source": [
        "label_binarizer = LabelBinarizer()\n",
        "y_train = label_binarizer.fit_transform(y_entrenamiento)\n",
        "y_test = label_binarizer.fit_transform(y_prueba)\n",
        "\n",
        "#Imprimir classification_report\n",
        "print(classification_report(y_prueba,predicciones_modelo.argmax(axis=1),target_names=[str(x) for x in label_binarizer.classes_]))"
      ],
      "execution_count": null,
      "outputs": [
        {
          "output_type": "stream",
          "name": "stdout",
          "text": [
            "              precision    recall  f1-score   support\n",
            "\n",
            "           0       0.99      0.99      0.99       980\n",
            "           1       0.99      0.99      0.99      1135\n",
            "           2       0.96      0.98      0.97      1032\n",
            "           3       0.99      0.98      0.98      1010\n",
            "           4       0.97      0.99      0.98       982\n",
            "           5       0.98      0.98      0.98       892\n",
            "           6       0.99      0.98      0.99       958\n",
            "           7       0.98      0.96      0.97      1028\n",
            "           8       0.98      0.98      0.98       974\n",
            "           9       0.98      0.98      0.98      1009\n",
            "\n",
            "    accuracy                           0.98     10000\n",
            "   macro avg       0.98      0.98      0.98     10000\n",
            "weighted avg       0.98      0.98      0.98     10000\n",
            "\n"
          ]
        }
      ]
    },
    {
      "cell_type": "code",
      "metadata": {
        "colab": {
          "base_uri": "https://localhost:8080/"
        },
        "id": "ftq_a3sbyZYJ",
        "outputId": "6a5f895b-910c-449e-f175-10b57245d1c3"
      },
      "source": [
        "print(predicciones_modelo[y_entrenamiento])"
      ],
      "execution_count": null,
      "outputs": [
        {
          "output_type": "stream",
          "name": "stdout",
          "text": [
            "[[2.0034716e-07 9.9998450e-01 4.0464738e-06 ... 4.6610839e-06\n",
            "  3.8446155e-06 5.1802175e-07]\n",
            " [9.7448826e-08 1.2825855e-06 4.4184662e-06 ... 9.9994814e-01\n",
            "  1.6596779e-08 3.4378198e-05]\n",
            " [9.7686620e-07 1.7125096e-09 8.6986165e-07 ... 9.0899360e-10\n",
            "  8.9187091e-07 4.9942053e-05]\n",
            " ...\n",
            " [2.0034716e-07 9.9998450e-01 4.0464738e-06 ... 4.6610839e-06\n",
            "  3.8446155e-06 5.1802175e-07]\n",
            " [6.7566461e-08 1.2548030e-08 2.8281104e-07 ... 5.9857058e-07\n",
            "  3.2018434e-05 2.5993532e-03]\n",
            " [3.9626784e-03 1.6551196e-05 7.6261073e-05 ... 4.2706656e-06\n",
            "  6.5356426e-02 2.0872499e-04]]\n"
          ]
        }
      ]
    },
    {
      "cell_type": "code",
      "metadata": {
        "id": "rg47Sltb4rcq"
      },
      "source": [
        "print(predicciones_modelo.argmax)"
      ],
      "execution_count": null,
      "outputs": []
    },
    {
      "cell_type": "markdown",
      "metadata": {
        "id": "u-QPDQPrrQnk"
      },
      "source": [
        "### Resultados\n",
        "\n",
        "Al evaluar el modelo obtenemos como resultado un precición del $98.1100\\%$"
      ]
    },
    {
      "cell_type": "code",
      "metadata": {
        "colab": {
          "base_uri": "https://localhost:8080/",
          "height": 54
        },
        "id": "F5J3mRKp083t",
        "outputId": "9584463d-dbeb-4150-c513-ca97055fbb6b"
      },
      "source": [
        "plt.style.use('ggplot')\n",
        "plt.figure()"
      ],
      "execution_count": null,
      "outputs": [
        {
          "output_type": "execute_result",
          "data": {
            "text/plain": [
              "<Figure size 432x288 with 0 Axes>"
            ]
          },
          "metadata": {},
          "execution_count": 69
        },
        {
          "output_type": "display_data",
          "data": {
            "text/plain": [
              "<Figure size 432x288 with 0 Axes>"
            ]
          },
          "metadata": {}
        }
      ]
    },
    {
      "cell_type": "code",
      "metadata": {
        "id": "90s-ADiy2cXO"
      },
      "source": [
        "valores_epoch = list(ModEv.epoch)"
      ],
      "execution_count": null,
      "outputs": []
    },
    {
      "cell_type": "code",
      "metadata": {
        "colab": {
          "base_uri": "https://localhost:8080/",
          "height": 318
        },
        "id": "fldtgnA1HlEo",
        "outputId": "a709a027-7ac9-48e0-ff6c-ed1dce81da50"
      },
      "source": [
        "plt.style.use('ggplot')\n",
        "plt.figure()\n",
        "plt.plot(valores_epoch,ModEv.history['loss'], label='Pérdida de entrenamiento')\n",
        "plt.plot(valores_epoch,ModEv.history['val_loss'], label='Pérdida de validación')\n",
        "plt.plot(valores_epoch,ModEv.history['accuracy'], label='Exactitud de entrenamiento')\n",
        "plt.plot(valores_epoch,ModEv.history['val_accuracy'], label='Exactitud de validación')\n",
        "\n",
        "plt.title('Pérdida y Exactitud de Entrenamiento')\n",
        "#plt.suptitle('Datos de Entrenamiento')\n",
        "plt.xlabel('Epoch N°')\n",
        "plt.ylabel('Pérdida/Exactitud')\n",
        "plt.legend()"
      ],
      "execution_count": null,
      "outputs": [
        {
          "output_type": "execute_result",
          "data": {
            "text/plain": [
              "<matplotlib.legend.Legend at 0x7f3eb7debfd0>"
            ]
          },
          "metadata": {},
          "execution_count": 108
        },
        {
          "output_type": "display_data",
          "data": {
            "image/png": "[encoded data removed]",
            "text/plain": [
              "<Figure size 432x288 with 1 Axes>"
            ]
          },
          "metadata": {}
        }
      ]
    }
  ]
}